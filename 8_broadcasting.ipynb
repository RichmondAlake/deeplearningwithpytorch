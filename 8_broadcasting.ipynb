{
 "cells": [
  {
   "cell_type": "code",
   "execution_count": 2,
   "metadata": {},
   "outputs": [],
   "source": [
    "import numpy as np"
   ]
  },
  {
   "cell_type": "code",
   "execution_count": 7,
   "metadata": {},
   "outputs": [
    {
     "name": "stdout",
     "output_type": "stream",
     "text": [
      "[ 0  5 10 15 20]\n"
     ]
    }
   ],
   "source": [
    "# Broadcasting describes how arithmetic works betweem arrays of different shapes.\n",
    "\n",
    "# Example of broadcasting with a scalar value and an array\n",
    "arr = np.arange(5)\n",
    "scalar = 5\n",
    "x = arr * 5\n",
    "# The scalar value has been broadcasted over the elements in the array to provide the value ([0,5,10,15,20])\n",
    "print(x)"
   ]
  },
  {
   "cell_type": "code",
   "execution_count": 21,
   "metadata": {},
   "outputs": [
    {
     "name": "stdout",
     "output_type": "stream",
     "text": [
      "(4, 3)\n",
      "[[ 0.08795823 -0.06741107  0.32783973]]\n"
     ]
    },
    {
     "data": {
      "text/plain": [
       "array([[ 0.42035978,  1.12249542,  0.23223637],\n",
       "       [ 0.14400249, -0.98473872,  0.63459033],\n",
       "       [ 0.2260883 ,  0.48691656,  0.44628549],\n",
       "       [-0.79045057, -0.62467326, -1.31311219]])"
      ]
     },
     "execution_count": 21,
     "metadata": {},
     "output_type": "execute_result"
    }
   ],
   "source": [
    "# Broadcasting can be utilised when demeaning each coloumn of an array by subracting the coloumn means\n",
    "\n",
    "arr = np.random.randn(4,3)\n",
    "demeaned = arr - arr.mean(0)\n",
    "demeaned"
   ]
  },
  {
   "cell_type": "code",
   "execution_count": 28,
   "metadata": {},
   "outputs": [
    {
     "name": "stdout",
     "output_type": "stream",
     "text": [
      "(4, 3)\n",
      "(3,)\n",
      "[[ 0.22457548  1.08132967  3.13999419]\n",
      " [ 0.64542427  2.76195144  2.81692213]\n",
      " [-2.1710771   0.81952197  2.84549362]\n",
      " [-1.65151429  2.06608989  0.44980066]]\n",
      "(4, 3)\n"
     ]
    }
   ],
   "source": [
    "# Broadcasting rules\n",
    "# Two arrays are compatiable for boradcasting if for each trailing dimension, the axis length match or if either of the length is 1.\n",
    "# Bradcsting is then performed over the missing or length 1 dimensions\n",
    "x = np.random.randn(4,3)\n",
    "y = np.arange(3)\n",
    "print(x.shape)\n",
    "print(y.shape)\n",
    "z = x + y\n",
    "print(z)\n",
    "print(z.shape)"
   ]
  },
  {
   "cell_type": "code",
   "execution_count": 36,
   "metadata": {},
   "outputs": [
    {
     "name": "stdout",
     "output_type": "stream",
     "text": [
      "(4, 3)\n",
      "(4,)\n",
      "(4, 1)\n",
      "[[ 1.17965534 -0.89907981 -0.28057553]\n",
      " [ 0.65780294 -0.86373361  0.20593066]\n",
      " [ 0.62719985 -0.08375451 -0.54344534]\n",
      " [-0.39411193  0.2286326   0.16547933]]\n",
      "[ 0.00000000e+00  0.00000000e+00 -3.70074342e-17  1.85037171e-17]\n"
     ]
    }
   ],
   "source": [
    "# Subtracting the mean value from each row\n",
    "arr = np.random.randn(4,3)\n",
    "rows_mean = arr.mean(1)\n",
    "print(arr.shape)\n",
    "print(rows_mean.shape)\n",
    "# For us to be able to subtract the mean from each row, the rows_mean wil require a shape of (4,1)\n",
    "# As the rules states that two arrays are compatitable for broadcasting if for th trailing dimensions the axis length match or it's 1\n",
    "rows_mean = rows_mean.reshape(4,1)\n",
    "print(rows_mean.shape)\n",
    "demeaned_rows = arr - rows_mean\n",
    "print(demeaned_rows)\n",
    "print(demeaned_rows.mean(1))"
   ]
  },
  {
   "cell_type": "code",
   "execution_count": 45,
   "metadata": {},
   "outputs": [
    {
     "name": "stdout",
     "output_type": "stream",
     "text": [
      "(3, 4, 2)\n",
      "[[[ 1.07052385  0.48366055]\n",
      "  [-0.04504526  0.78358673]\n",
      "  [-0.24267379 -0.5947436 ]\n",
      "  [-0.07156657 -0.78579781]]\n",
      "\n",
      " [[-1.0170226   0.21101584]\n",
      "  [-0.27182785 -0.00591017]\n",
      "  [-0.03903657 -0.9343431 ]\n",
      "  [-0.36300249  0.51200076]]\n",
      "\n",
      " [[ 0.46380449 -0.19434254]\n",
      "  [ 0.87233312 -2.70557699]\n",
      "  [ 0.05607567  1.61036925]\n",
      "  [-0.12692144  1.17330053]]]\n"
     ]
    }
   ],
   "source": [
    "x = np.random.randn(3,4,2)\n",
    "y = np.random.randn(4,2)\n",
    "z = x * y\n",
    "print(z.shape)\n",
    "print(z)"
   ]
  },
  {
   "cell_type": "code",
   "execution_count": null,
   "metadata": {},
   "outputs": [],
   "source": [
    "# When performing arithmetic operations with a lower dimensional array across axes other than zero\n",
    "# According to the rule, the broadcast dimensions must be 1 in the smaller array"
   ]
  },
  {
   "cell_type": "code",
   "execution_count": 49,
   "metadata": {},
   "outputs": [
    {
     "name": "stdout",
     "output_type": "stream",
     "text": [
      "[ 5. 10. 15.]\n"
     ]
    }
   ],
   "source": [
    "#1 Example without Broadcasting\n",
    "a = np.array([1,2,3], dtype=float)\n",
    "b = 5\n",
    "c = np.empty([3])\n",
    "\n",
    "for idx, i in enumerate(a):\n",
    "    c[idx] = i * b\n",
    "\n",
    "print(c)    "
   ]
  },
  {
   "cell_type": "code",
   "execution_count": 50,
   "metadata": {},
   "outputs": [
    {
     "name": "stdout",
     "output_type": "stream",
     "text": [
      "[ 5. 10. 15.]\n"
     ]
    }
   ],
   "source": [
    "#1 Example with Broadcasting\n",
    "a = np.array([1,2,3], dtype=float)\n",
    "b = 5\n",
    "c = a * b\n",
    "print(c)"
   ]
  },
  {
   "cell_type": "code",
   "execution_count": 14,
   "metadata": {},
   "outputs": [
    {
     "name": "stdout",
     "output_type": "stream",
     "text": [
      "[[ 2  6 12 20]\n",
      " [ 6 14 24 36]]\n"
     ]
    }
   ],
   "source": [
    "x = np.array([[2,3,4,5], [6,7,8,9]])\n",
    "y = np.array([1,2,3,4])\n",
    "z = x*y\n",
    "print(z)"
   ]
  },
  {
   "cell_type": "code",
   "execution_count": 15,
   "metadata": {},
   "outputs": [
    {
     "name": "stdout",
     "output_type": "stream",
     "text": [
      "(2, 4)\n",
      "(4,)\n"
     ]
    }
   ],
   "source": [
    "print(x.shape)\n",
    "print(y.shape)"
   ]
  },
  {
   "cell_type": "code",
   "execution_count": 17,
   "metadata": {},
   "outputs": [
    {
     "name": "stdout",
     "output_type": "stream",
     "text": [
      "[[ 2  6 12 20]\n",
      " [ 6 14 24 36]]\n"
     ]
    }
   ],
   "source": [
    "x = np.array([[2,3,4,5], [6,7,8,9]])\n",
    "y = np.array([[1,2,3,4], [1,2,3,4]])\n",
    "z = x*y\n",
    "print(z)"
   ]
  },
  {
   "cell_type": "code",
   "execution_count": 18,
   "metadata": {},
   "outputs": [
    {
     "name": "stdout",
     "output_type": "stream",
     "text": [
      "(2, 4)\n",
      "(2, 4)\n"
     ]
    }
   ],
   "source": [
    "print(x.shape)\n",
    "print(y.shape)"
   ]
  },
  {
   "cell_type": "code",
   "execution_count": 23,
   "metadata": {},
   "outputs": [
    {
     "name": "stdout",
     "output_type": "stream",
     "text": [
      "[[1.64719768e-066 6.80231464e-310 0.00000000e+000]]\n",
      "[[0. 0. 0.]]\n"
     ]
    }
   ],
   "source": [
    "print(np.empty([1,3]))\n",
    "print(np.zeros([1,3]))"
   ]
  },
  {
   "cell_type": "code",
   "execution_count": 10,
   "metadata": {},
   "outputs": [
    {
     "name": "stdout",
     "output_type": "stream",
     "text": [
      "(3,)\n",
      "(3,)\n",
      "True\n",
      "[18 10  2]\n"
     ]
    }
   ],
   "source": [
    "# Rule 1: The shaoe of the array must be the same\n",
    "\n",
    "x = np.array([3,2,1])\n",
    "y = np.array([6,5,2])\n",
    "z = x * y\n",
    "print(x.shape)\n",
    "print(y.shape)\n",
    "print(x.shape == y.shape)\n",
    "print(z)"
   ]
  },
  {
   "cell_type": "code",
   "execution_count": 15,
   "metadata": {},
   "outputs": [
    {
     "name": "stdout",
     "output_type": "stream",
     "text": [
      "(2, 4)\n",
      "(4,)\n",
      "False\n"
     ]
    }
   ],
   "source": [
    "# Rule 2: \n",
    "# The number of dimensions in the arrays are the same, also\n",
    "# the length of the dimensions is one that is shared across the arrays\n",
    "# or the dimension of one of the array has a length of 1\n",
    "\n",
    "x = np.array([[1,2,3,4], [5,6,7,8]])\n",
    "y = np.array([2,3,5,3])\n",
    "z = x * y\n",
    "print(x.shape)\n",
    "print(y.shape)\n",
    "print(x.shape == y.shape)\n",
    "\n"
   ]
  }
 ],
 "metadata": {
  "kernelspec": {
   "display_name": "Python 3",
   "language": "python",
   "name": "python3"
  },
  "language_info": {
   "codemirror_mode": {
    "name": "ipython",
    "version": 3
   },
   "file_extension": ".py",
   "mimetype": "text/x-python",
   "name": "python",
   "nbconvert_exporter": "python",
   "pygments_lexer": "ipython3",
   "version": "3.7.3"
  }
 },
 "nbformat": 4,
 "nbformat_minor": 2
}
